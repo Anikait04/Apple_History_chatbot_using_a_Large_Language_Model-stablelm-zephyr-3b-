{
 "cells": [
  {
   "cell_type": "code",
   "execution_count": 1,
   "metadata": {},
   "outputs": [],
   "source": [
    "from langchain.document_loaders import PyPDFDirectoryLoader\n",
    "from langchain.text_splitter import RecursiveCharacterTextSplitter\n",
    "from langchain_ollama import OllamaEmbeddings\n",
    "import chromadb\n",
    "from langchain.vectorstores import Chroma\n",
    "from langchain_chroma import Chroma\n",
    "from uuid import uuid4\n",
    "from langchain_core.documents import Document\n",
    "from langchain_ollama import OllamaLLM\n",
    "from langchain import PromptTemplate, LLMChain"
   ]
  },
  {
   "cell_type": "code",
   "execution_count": 2,
   "metadata": {},
   "outputs": [],
   "source": [
    "loader= PyPDFDirectoryLoader(\"pdfs\")"
   ]
  },
  {
   "cell_type": "code",
   "execution_count": 3,
   "metadata": {},
   "outputs": [],
   "source": [
    " \n",
    "data=loader.load()"
   ]
  },
  {
   "cell_type": "code",
   "execution_count": 4,
   "metadata": {},
   "outputs": [
    {
     "data": {
      "text/plain": [
       "[Document(metadata={'source': 'pdfs\\\\TheHistoryofApple1.pdf', 'page': 0}, page_content='See discussions, stats, and author profiles for this publication at: https://www.researchgate.net/publication/364326882\\nThe History of Apple\\nArticle · October 2022\\nCITATIONS\\n0\\nREADS\\n29,507\\n2 authors, including:\\nOdina Kamolova\\nWestminster International University in Tashkent\\n4 PUBLICATIONS\\xa0\\xa0\\xa01 CITATION\\xa0\\xa0\\xa0\\nSEE PROFILE\\nAll content following this page was uploaded by Odina Kamolova on 14 October 2022.\\nThe user has requested enhancement of the downloaded file.'),\n",
       " Document(metadata={'source': 'pdfs\\\\TheHistoryofApple1.pdf', 'page': 1}, page_content='IJESC, September 2022                                                                        29800                              http:// ijesc.org/ \\n \\nISSN 2321 3361 © 2022 IJESC  \\n  \\n \\n \\nThe History of Apple \\nMuxtorova Nasiba1, Kamolova Odina2 \\nUniveristy of Westminster, \\nTASHKENT Uzbekistan. \\n \\nIntroduction:    \\nApple has officially become the  first 1 trillion dollars \\ncompany in history ! It must come as  no surprise as Apple \\ncontinues to astonish the world with its innovative products \\nand services.  The company had to go through years of \\nstruggle, various failures and accomplishments which \\nfinally led to the way it stands today – the first ever \\ncompany to be valued 1 trillion dollars.  Join us on this \\nmemory lane as we go back in time to explore the history of \\nApple from the days when Apple was limited to only a \\ngarage in California to the present when it is the most \\nsuccessful company in history. \\n \\nThe Foundation Of Apple: \\nIn 1976, Apple was founded by three men: Steve Jobs, \\nSteve Wozniak and Ronald Wayne with the intention of \\nselling Wozniak’s hand -built Personal Computer named \\nApple 1. \\nThe first Apple office, in the garage of Steve Jobs’ \\nchildhood home . The Apple 1 was sold as a motherboard \\nwith CPU, RAM and basic textual -video chips. It then \\nlacked a built -in keyboard, monitor, case or any other \\nHuman Interface Devices (which was later added in 1977).  \\nIn July 1976, the Apple 1 went on sale and was sold for \\n$666.66. Steve Wozniak took a special liking for repeated \\nnumbers and hence the fancy number as the price.  Steve \\nJobs and Steve Wozniak with the Apple -1 | Source: \\nkidskunst.info. However, Ronald Wayne decided to leave \\nthe company only a couple of weeks aft er it was founded. \\nWayne then took a cheque of $800 which would have been \\nworth almost $72 billion 40 years later. Wayne was the one \\nto hand sketch the first Apple logo which was then replaced \\nby the bitten apple logo designed by Rob Janoff in 1977. \\n \\nHistory of Apple logo: \\nThe Apple Computer Inc. was incorporated on January 3 rd, \\n1977. Mike Markkula, the multimillionaire who had taken \\ninterest in the Apple -1 provided the company required \\nfunding and business expertise. Mike Markkula was the \\n3rd employee with  a one -third share in the company. He \\nsuggested a man named Michael Scott be the company’s \\nfirst president and CEO as he thought Steve was too young \\nand undisciplined to be the CEO. \\n \\nThe Apple II and III: \\nIt was in 1977 that the Apple II was introduced, also by \\nWozniak. VisiCalc (the world’s first ‘killer-app’), a ground-\\nbreaking spreadsheet and calculating software helped the \\nApple II computers to stand ahead of market leaders Tandy \\nand Commodore PET. VisiCalc gave users an additional \\nreason to buy the A pple II because of its office \\ncompatibility. With the introduction of colour graphics, the \\nApple II was able to revolutionize the computer industry. \\nThe Apple II | Source: businessinsider \\nBy 1978, Apple had a real office with several employees \\nand an Apple II production line. \\nIn the years that followed, revenues grew exponentially for \\nthe Apple Company doubling every four months. Their \\nyearly sales grew from 775,000 dollars to 118 million \\ndollars between  September 1977 and September 1980 \\n(average annual growth rate of 533%).  Jobs and several \\nemployees were allowed to visit the Xerox PARC lab in \\n1979. It is world famous for the laser printer, mouse, \\nethernet networking and other technological \\naccomplishments. Jobs and his engineers visited the PARC \\ncampus in return for the option to buy 100,000 shares of \\napple for $10 a share.  By the year 1980, the competition \\nwas growing difficult with IBM and Microsoft in the \\nmarket. Apple released Apple III in the same y ear to \\ncompete with these companies in the corporate computing \\nmarket. The Apple III was not as successful due to a design \\nflaw. In order to reduce noise, Jobs insisted computers not \\nhave fans or vents which in turn created problems due to \\ndangerous overhe ating. Thus, the Apple III lost to IBM \\ncomputers. However, Jobs had been convinced from the \\nvisit to the Xerox PARC labs that all future computers \\nrequired to use a Graphical User Interface (GUI) like the \\nones used today. He immediately began the developme nt of \\na GUI for Apple’s next generation computer, Apple Lisa.  \\nUnfortunately, Jobs was removed from the Lisa team due to \\ninfighting and became a part of the low -cost-computer \\nproject, the Macintosh. Lisa was released in 1983 and met \\nwith disastrous sales du e to its high price and limited \\nsoftware support. Apple went public on December 12, 1980, \\nat 22  dollarsper share. According to  EDN Network , \\nApple’s 4.6 million dollars shares sold out immediately and \\ngenerated more capital than any other IPO (Initial Public \\nOffering) since the Ford Motor Company in 1956. The IPO \\ncreated 217 million dollars in wealth for Steve Jobs, the \\nlargest shareholder. The company’s IPO also created 300 \\nother millionaires instantly. \\n \\nHow Jobs met Woz: \\nJobs and Woz (that’s Steve Wozniak) were introduced in \\n1971 by a mutual friend,  Bill Fernandez, who went on to \\nbecome one of Apple’s ea rliest employees. The two Steves \\ngot along thanks to their shared love of technology and \\npranks. Jobs and Wozniak joined forces, initially coming up \\nwith pranks such as rigging up a painting of a hand showing \\nthe middle -finger to be displayed during a grad uaction \\nceremony at Jobs’ school, and a call to the Vatican that \\nnearly got them access to the Pope. \\nThe two friends were also using their technology know -\\nhow to build ‘blue boxes’ that made it possible to make \\nlong distance phone calls for free.  Jobs and Wozniak \\nworked together on the  Atari arcade game  Breakout while \\nJobs was working at Atari and Wozniak was working at HP \\n– Jobs had roped Woz into helping him reduce the number \\n \\nResearch Article                                                                                                                      Volume 12 Issue No.9 \\n '),\n",
       " Document(metadata={'source': 'pdfs\\\\TheHistoryofApple1.pdf', 'page': 2}, page_content='IJESC, September 2022                                                                        29801                              http:// ijesc.org/ \\nof logic chips required. Jobs managed to get a good bonus \\nfor the work on Breako ut, of which he gave a small amount \\nto Woz. \\n \\nThe first Apple computer: \\nThe two Steves attended the Homebrew Computer Club \\ntogether; a computer hobbyist group that gathered in \\nCalifornia’s Menlo Park from 1975. Woz had seen his first \\nMITS Altair there – which today looks like little more than \\na box of lights and circuit boards – and was inspired by \\nMITS’ build-it-yourself approach (the Altair came as a kit) \\nto make something simpler for the rest of us. This \\nphilosophy continues to shine through in Apple’s  products \\ntoday. So Woz produced the the first computer with a \\ntypewriter-like keyboard and the ability to connect to a \\nregular TV as a screen. Later christened the Apple I, it was \\nthe archetype of every modern computer, but Wozniak \\nwasn’t trying to change  the world with what he’d produced \\n– he just wanted to show off how much he’d managed to do \\nwith so few resources.  Speaking to NPR (National Public \\nRadio) in 2006, Woz explained that “When I built this \\nApple I… the first computer to say a computer should l ook \\nlike a typewriter – it should have a keyboard – and the \\noutput device is a TV set, it wasn’t really to show the world \\n[that] here is the direction [it] should go [in]. It was to \\nreally show the people around me, to boast, to be clever, to \\nget acknowled gement for having designed a very \\ninexpensive computer.” \\nJobs and Woz \\nIt almost didn’t happen, though. The Woz we know now \\nhas a larger -than-life personality – he’s funded rock \\nconcerts and shimmied on Dancing with the Stars – but, as \\nhe told the Sydney Morning Herald, “I was shy and felt that \\nI knew little about the newest developments in computers.” \\nHe came close to ducking out altogether, and giving the \\nClub a miss. \\nLet’s be thankful he didn’t. Jobs saw Woz’s computer, \\nrecognised its brilliance, and sold  his VW microbus to help \\nfund its production. Wozniak sold his HP calculator (which \\ncost a bit more than calculators do today!), and together \\nthey founded Apple Computer Inc on 1 April 1976, \\nalongside Ronald Wayne. \\n \\nWhy Apple was named Apple: \\nThe name Apple was to cause Apple problems in later years \\nas it was uncomfortably similar to that of the Beatles’ \\npublisher, Apple Corps, but its genesis was innocent \\nenough. \\nSpeaking to Byte magaz ine in December 1984 , Woz \\ncredited Jobs with the idea. “He was working from time to \\ntime in the orchards up in Oregon. I thought that it might be \\nbecause there were apples in the orchard or maybe just its \\nfruitarian nature. Maybe the word just happened to occur to \\nhim. In any case, we both tried to come up with better \\nnames but neither one of us could think of anything better \\nafter Apple was mentioned.” \\nAccording to the biography of Steve Jobs, the name was \\nconceived by Jobs after he returned from apple far m. He \\napparently thought the name sounded “fun, spirited and not \\nintimidating.” \\nThe name also likely benefitted by beginning with an A, \\nwhich meant it would be nearer the front of any listings. \\n \\nThe Apple Logo \\nThere are other theories about the meaning behind the name \\nApple. The idea that it was named thus because Newton \\nwas inspired when an Apple fell out of a tree hitting him on \\nthe head, is backed up by the fact that the original Apple \\nlogo was a rather complicated illustration of Newton sitting \\nunder a tree. \\nLater the company settled on the bite out of an Apple \\ndesign for Apple’s logo – a far simpler logo design. These \\nlogos are probably the reason for other theories about the \\nmeaning behind the name Apple, with some suggesting that \\nthe Apple logo wit h a chunk taken out of it is a nod at \\ncomputer scientist and Enigma code -breaker, Alan Turing, \\nwho committed suicide by eating a cyanide infused apple. \\nHowever, according to  Rob Janoff, the designer who \\ncreated the logo, the Turing connection is simply “a \\nwonderful urban legend.” \\nEqually the bite taken out of the Apple could represent the \\nstory of Adam and Eve from the Old Testament. The idea \\nbeing that the Apple represents knowledge. \\n \\nSelling the Apple I \\nWoz built each computer by hand, and although he’d \\nwanted to sell them for little more than the cost of their \\nparts – at a price at that would recoup their outlay as long as \\nthey shipped 50 units – Jobs had bigger ideas. \\nJobs inked a deal with the Byte Shop in Mountain View to \\nsupply it with 50 computers at  $500 each. This meant that \\nonce the store had taken its cut, the Apple I sold for \\n$666.66 – the legend is that Wozniak liked repeating \\nnumbers and was unaware of the ‘number of the beast’ \\nconection.  \\nByte Shop was going out on a limb: the Apple I didn’t e xist \\nin any great numbers, and the nascent Apple Computer Inc \\ndidn’t have the resources to fulfil the order. Neither could it \\nget them. Atari, where Jobs worked, wanted cash for any \\ncomponents it sold him, a bank turned him down for a loan, \\nand although he  had an offer of $5,000 from a friend’s \\nfather, it wasn’t enough. \\nIn the end, it was Byte Shop’s purchase order that sealed \\nthe deal. Jobs took it to Cramer Electronics and, as  Walter \\nIsaacson explains in Steve Jobs: The Exclusive Biography , \\nhe convinced Cramer’s manager to call Paul Terrell, owner \\nof Byte Shop, to verify the order. \\n“Terrell was at a co nference when he heard over a \\nloudspeaker that he had an emergency call (Jobs had been \\npersistent). The Cramer manager told him that two scruffy \\nkids had just walked in waving an order from the Byte Shop. \\nWas it real? Terrell confirmed that it was, and the  store \\nagreed to front Jobs the parts on thirty-day credit.” \\n \\nAn original Apple I (in a case) \\nJobs was banking on producing enough working computers \\nwithin that time to settle the bill out of the proceeds from \\nselling completed units to Byte Shop. The risk  involved \\nwas too great for Ronald Wayne, and it’s ultimately this \\nthat saw him duck out. \\n“Jobs and Woz didn’t have two nickels to rub \\ntogether,”  Wayne told NextShark in 2013 . “If this thing \\nblew up, how was that… going to be repaid? Did they h ave \\nthe money? No. Was I reachable? Yes.” \\nFamily and friends  were roped in to sit at a kitchen table \\nand help solder the parts, and once they’d been tested Jobs \\ndrove them over to Byte Shop. When he unpacked them, '),\n",
       " Document(metadata={'source': 'pdfs\\\\TheHistoryofApple1.pdf', 'page': 3}, page_content='IJESC, September 2022                                                                        29802                              http:// ijesc.org/ \\nTerrell, who had ordered finished computer s, was surprised \\nby what he found. \\nAs Michael Moritz explains in  Return to the Little \\nKingdom, “Some energetic intervention was required \\nbefore the boards could be made to do anything. Terrell \\ncouldn’t even test the board without buying two \\ntransformers… Since the Apple I didn’t have a keyboard or \\na television, no data could be funnelled in or out of the \\ncomputer. Once a keyboard had been hooked to the \\nmachine it still couldn’t be programmed without somebody \\nlaboriously typing in the code for BASIC sin ce Wozniak \\nand Jobs hadn’t provided the language on a cassette tape or \\nin a ROM chip… finally the computer was naked. It had no \\ncase.” \\nAn original Apple I board, from the Sydney Powerhouse \\nMuseum collection \\nRaspberry PI and the BBC’s Micro Bit aside, we pr obably \\nwouldn’t accept such a computer today, and even Terrell \\nwas reluctant at first but, as Isaacson explains, “Jobs stared \\nhim down, and he agreed to take delivery and pay.” The \\ngamble had paid off, and the Apple I stayed in production \\nfrom April 1976 u ntil September 1977, with a total run of \\naround 200 units. \\nTheir scarcity has made them collectors’ items, and \\nBonhams auctioned a working Apple I in October 2014 for \\nan eye-watering $905,000. If your pockets aren’t that deep, \\nBriel Computers’  Replica 1 Plus is a hardware clone of the \\nApple I, and ships at a far more affordable $199, fully built. \\nWhen you consider that only 200 were built, the Apple I \\nwas a triumph. It powered its burgeoning parent company \\nto almost unheard -of rates of growth  – so much so that the \\ndecision to build a successor can’t have caused too many \\nsleepless nights in the Jobs and Wozniak households. \\n \\nThe Apple II \\nApple II \\nThe success of the first Apple computer meant that Apple \\nwas able to go on to design its predecessor. \\nThe Apple II debuted at the West Coast Computer Faire of \\nApril 1977, going head to head with big -name rivals like \\nthe Commodore PET. It was a truly groundbreaking \\nmachine, just like the Apple computer before it, with colour \\ngraphics and tape -based storage (later upgraded to 5.25in \\nfloppies). Memory ran to 64K in the top -end models and \\nthe image it sent to the NTSC display stretched to a truly \\nimpressive 280 x 192, which was then considered high \\nresolution. Naturally there was a payoff, and push ing it to \\nsuch limits meant you had to content yourself with just six \\ncolours, but dropping to a more reasonable 40 rows by 48 \\ncolumns would let you enjoy as many as 16 tones at a time. \\nYes, the Apple II was a true innovation, and one that Jobs’ \\nbiographer, Walter Isaacson , credits with launching the \\npersonal computer industry. \\n \\nRecourses:  \\n[1] https://www.macworld.com/article/671584/history\\n-of-apple-the-story-of-steve-jobs-and-the-\\ncompany-he-founded.html \\n[2] https://en.wikipedia.org/wiki/Apple_Inc. \\n[3] Oup.com  \\n[4] Cambridge.org  \\n[5] Harvard library of famous figure. \\n \\n \\n \\nView publication stats')]"
      ]
     },
     "execution_count": 4,
     "metadata": {},
     "output_type": "execute_result"
    }
   ],
   "source": [
    "data"
   ]
  },
  {
   "cell_type": "code",
   "execution_count": 5,
   "metadata": {},
   "outputs": [],
   "source": [
    "text_splitter = RecursiveCharacterTextSplitter(chunk_size=150, chunk_overlap=15)\n",
    "text_chunk = text_splitter.split_documents(data)"
   ]
  },
  {
   "cell_type": "code",
   "execution_count": null,
   "metadata": {},
   "outputs": [],
   "source": [
    "emdedding= OllamaEmbeddings(model=\"llama3.2:1b\" )"
   ]
  },
  {
   "cell_type": "code",
   "execution_count": null,
   "metadata": {},
   "outputs": [],
   "source": [
    "vector_store = Chroma(\n",
    "    collection_name=\"example_collection\",\n",
    "    embedding_function=emdedding,\n",
    "    persist_directory=\"./chroma_langchain_db\",  # Where to save data locally, remove if not necessary\n",
    ")"
   ]
  },
  {
   "cell_type": "code",
   "execution_count": null,
   "metadata": {},
   "outputs": [],
   "source": [
    "uuids = [str(uuid4()) for _ in range(len(text_chunk))]\n",
    " \n",
    "vector_store.add_documents(documents=text_chunk, ids=uuids)"
   ]
  },
  {
   "cell_type": "code",
   "execution_count": null,
   "metadata": {},
   "outputs": [],
   "source": [
    "results = vector_store.similarity_search(\n",
    "    \"WHO IS STEVE JOBS\",\n",
    "    k=2,\n",
    ")"
   ]
  },
  {
   "cell_type": "code",
   "execution_count": null,
   "metadata": {},
   "outputs": [],
   "source": [
    "for res in results:\n",
    "    print(f\"* {res.page_content} [{res.metadata}]\")\n",
    "from langchain_ollama import OllamaLLM"
   ]
  },
  {
   "cell_type": "code",
   "execution_count": null,
   "metadata": {},
   "outputs": [],
   "source": [
    "llm=OllamaLLM(model=\"llama3.2:1b\")"
   ]
  },
  {
   "cell_type": "code",
   "execution_count": null,
   "metadata": {},
   "outputs": [],
   "source": [
    "template = \"\"\"\n",
    "You are an expert assistant specializing in Apple's history. Your job is to answer questions accurately using the provided context. \n",
    "If the context doesn't contain enough information, ask the user to provide additional details. Never make up answers.\n",
    " \n",
    "### Context:\n",
    "{context}\n",
    " \n",
    "### User Query:\n",
    "{query}\n",
    " \n",
    "### Your Response:\n",
    "\"\"\""
   ]
  },
  {
   "cell_type": "code",
   "execution_count": null,
   "metadata": {},
   "outputs": [],
   "source": [
    "prompt = PromptTemplate(\n",
    "    input_variables=[\"context\", \"query\"],\n",
    "    template=template,\n",
    ")"
   ]
  },
  {
   "cell_type": "code",
   "execution_count": null,
   "metadata": {},
   "outputs": [],
   "source": [
    "apple_history_chain = LLMChain(llm=llm, prompt=prompt)"
   ]
  },
  {
   "cell_type": "code",
   "execution_count": null,
   "metadata": {},
   "outputs": [],
   "source": [
    "query = \"When was Apple founded, and who were the founders?\""
   ]
  },
  {
   "cell_type": "code",
   "execution_count": null,
   "metadata": {},
   "outputs": [],
   "source": [
    "response = apple_history_chain.run(context=results, query=query)"
   ]
  },
  {
   "cell_type": "code",
   "execution_count": null,
   "metadata": {},
   "outputs": [],
   "source": [
    "print(response)"
   ]
  }
 ],
 "metadata": {
  "kernelspec": {
   "display_name": "venv",
   "language": "python",
   "name": "python3"
  },
  "language_info": {
   "codemirror_mode": {
    "name": "ipython",
    "version": 3
   },
   "file_extension": ".py",
   "mimetype": "text/x-python",
   "name": "python",
   "nbconvert_exporter": "python",
   "pygments_lexer": "ipython3",
   "version": "3.12.7"
  }
 },
 "nbformat": 4,
 "nbformat_minor": 2
}
