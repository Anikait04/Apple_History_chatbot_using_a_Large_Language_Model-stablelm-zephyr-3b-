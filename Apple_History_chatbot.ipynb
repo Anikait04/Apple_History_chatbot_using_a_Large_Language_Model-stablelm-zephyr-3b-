{
 "cells": [
  {
   "cell_type": "code",
   "execution_count": null,
   "metadata": {},
   "outputs": [],
   "source": [
    "from langchain.document_loaders import PyPDFDirectoryLoader\n",
    "from langchain.text_splitter import RecursiveCharacterTextSplitter\n",
    "from langchain_ollama import OllamaEmbeddings\n",
    "import chromadb\n",
    "from langchain.vectorstores import Chroma\n",
    "from langchain_chroma import Chroma\n",
    "from uuid import uuid4\n",
    "from langchain_core.documents import Document\n",
    "from langchain_ollama import OllamaLLM\n",
    "from langchain import PromptTemplate, LLMChain\n",
    "from langchain_ollama import OllamaLLM"
   ]
  },
  {
   "cell_type": "code",
   "execution_count": 3,
   "metadata": {},
   "outputs": [],
   "source": [
    "loader= PyPDFDirectoryLoader(\"pdfs\")"
   ]
  },
  {
   "cell_type": "code",
   "execution_count": 4,
   "metadata": {},
   "outputs": [],
   "source": [
    " \n",
    "data=loader.load()"
   ]
  },
  {
   "cell_type": "code",
   "execution_count": 10,
   "metadata": {},
   "outputs": [
    {
     "data": {
      "text/plain": [
       "[Document(metadata={'source': 'pdfs\\\\TheHistoryofApple1.pdf', 'page': 0}, page_content='See discussions, stats, and author profiles for this publication at: https://www.researchgate.net/publication/364326882\\nThe History of Apple\\nArticle · October 2022\\nCITATIONS\\n0\\nREADS\\n29,507\\n2 authors, including:\\nOdina Kamolova\\nWestminster International University in Tashkent\\n4 PUBLICATIONS\\xa0\\xa0\\xa01 CITATION\\xa0\\xa0\\xa0\\nSEE PROFILE\\nAll content following this page was uploaded by Odina Kamolova on 14 October 2022.\\nThe user has requested enhancement of the downloaded file.'),\n",
       " Document(metadata={'source': 'pdfs\\\\TheHistoryofApple1.pdf', 'page': 1}, page_content='IJESC, September 2022                                                                        29800                              http:// ijesc.org/ \\n \\nISSN 2321 3361 © 2022 IJESC  \\n  \\n \\n \\nThe History of Apple \\nMuxtorova Nasiba1, Kamolova Odina2 \\nUniveristy of Westminster, \\nTASHKENT Uzbekistan. \\n \\nIntroduction:    \\nApple has officially become the  first 1 trillion dollars \\ncompany in history ! It must come as  no surprise as Apple \\ncontinues to astonish the world with its innovative products \\nand services.  The company had to go through years of \\nstruggle, various failures and accomplishments which \\nfinally led to the way it stands today – the first ever \\ncompany to be valued 1 trillion dollars.  Join us on this \\nmemory lane as we go back in time to explore the history of \\nApple from the days when Apple was limited to only a \\ngarage in California to the present when it is the most \\nsuccessful company in history. \\n \\nThe Foundation Of Apple: \\nIn 1976, Apple was founded by three men: Steve Jobs, \\nSteve Wozniak and Ronald Wayne with the intention of \\nselling Wozniak’s hand -built Personal Computer named \\nApple 1. \\nThe first Apple office, in the garage of Steve Jobs’ \\nchildhood home . The Apple 1 was sold as a motherboard \\nwith CPU, RAM and basic textual -video chips. It then \\nlacked a built -in keyboard, monitor, case or any other \\nHuman Interface Devices (which was later added in 1977).  \\nIn July 1976, the Apple 1 went on sale and was sold for \\n$666.66. Steve Wozniak took a special liking for repeated \\nnumbers and hence the fancy number as the price.  Steve \\nJobs and Steve Wozniak with the Apple -1 | Source: \\nkidskunst.info. However, Ronald Wayne decided to leave \\nthe company only a couple of weeks aft er it was founded. \\nWayne then took a cheque of $800 which would have been \\nworth almost $72 billion 40 years later. Wayne was the one \\nto hand sketch the first Apple logo which was then replaced \\nby the bitten apple logo designed by Rob Janoff in 1977. \\n \\nHistory of Apple logo: \\nThe Apple Computer Inc. was incorporated on January 3 rd, \\n1977. Mike Markkula, the multimillionaire who had taken \\ninterest in the Apple -1 provided the company required \\nfunding and business expertise. Mike Markkula was the \\n3rd employee with  a one -third share in the company. He \\nsuggested a man named Michael Scott be the company’s \\nfirst president and CEO as he thought Steve was too young \\nand undisciplined to be the CEO. \\n \\nThe Apple II and III: \\nIt was in 1977 that the Apple II was introduced, also by \\nWozniak. VisiCalc (the world’s first ‘killer-app’), a ground-\\nbreaking spreadsheet and calculating software helped the \\nApple II computers to stand ahead of market leaders Tandy \\nand Commodore PET. VisiCalc gave users an additional \\nreason to buy the A pple II because of its office \\ncompatibility. With the introduction of colour graphics, the \\nApple II was able to revolutionize the computer industry. \\nThe Apple II | Source: businessinsider \\nBy 1978, Apple had a real office with several employees \\nand an Apple II production line. \\nIn the years that followed, revenues grew exponentially for \\nthe Apple Company doubling every four months. Their \\nyearly sales grew from 775,000 dollars to 118 million \\ndollars between  September 1977 and September 1980 \\n(average annual growth rate of 533%).  Jobs and several \\nemployees were allowed to visit the Xerox PARC lab in \\n1979. It is world famous for the laser printer, mouse, \\nethernet networking and other technological \\naccomplishments. Jobs and his engineers visited the PARC \\ncampus in return for the option to buy 100,000 shares of \\napple for $10 a share.  By the year 1980, the competition \\nwas growing difficult with IBM and Microsoft in the \\nmarket. Apple released Apple III in the same y ear to \\ncompete with these companies in the corporate computing \\nmarket. The Apple III was not as successful due to a design \\nflaw. In order to reduce noise, Jobs insisted computers not \\nhave fans or vents which in turn created problems due to \\ndangerous overhe ating. Thus, the Apple III lost to IBM \\ncomputers. However, Jobs had been convinced from the \\nvisit to the Xerox PARC labs that all future computers \\nrequired to use a Graphical User Interface (GUI) like the \\nones used today. He immediately began the developme nt of \\na GUI for Apple’s next generation computer, Apple Lisa.  \\nUnfortunately, Jobs was removed from the Lisa team due to \\ninfighting and became a part of the low -cost-computer \\nproject, the Macintosh. Lisa was released in 1983 and met \\nwith disastrous sales du e to its high price and limited \\nsoftware support. Apple went public on December 12, 1980, \\nat 22  dollarsper share. According to  EDN Network , \\nApple’s 4.6 million dollars shares sold out immediately and \\ngenerated more capital than any other IPO (Initial Public \\nOffering) since the Ford Motor Company in 1956. The IPO \\ncreated 217 million dollars in wealth for Steve Jobs, the \\nlargest shareholder. The company’s IPO also created 300 \\nother millionaires instantly. \\n \\nHow Jobs met Woz: \\nJobs and Woz (that’s Steve Wozniak) were introduced in \\n1971 by a mutual friend,  Bill Fernandez, who went on to \\nbecome one of Apple’s ea rliest employees. The two Steves \\ngot along thanks to their shared love of technology and \\npranks. Jobs and Wozniak joined forces, initially coming up \\nwith pranks such as rigging up a painting of a hand showing \\nthe middle -finger to be displayed during a grad uaction \\nceremony at Jobs’ school, and a call to the Vatican that \\nnearly got them access to the Pope. \\nThe two friends were also using their technology know -\\nhow to build ‘blue boxes’ that made it possible to make \\nlong distance phone calls for free.  Jobs and Wozniak \\nworked together on the  Atari arcade game  Breakout while \\nJobs was working at Atari and Wozniak was working at HP \\n– Jobs had roped Woz into helping him reduce the number \\n \\nResearch Article                                                                                                                      Volume 12 Issue No.9 \\n '),\n",
       " Document(metadata={'source': 'pdfs\\\\TheHistoryofApple1.pdf', 'page': 2}, page_content='IJESC, September 2022                                                                        29801                              http:// ijesc.org/ \\nof logic chips required. Jobs managed to get a good bonus \\nfor the work on Breako ut, of which he gave a small amount \\nto Woz. \\n \\nThe first Apple computer: \\nThe two Steves attended the Homebrew Computer Club \\ntogether; a computer hobbyist group that gathered in \\nCalifornia’s Menlo Park from 1975. Woz had seen his first \\nMITS Altair there – which today looks like little more than \\na box of lights and circuit boards – and was inspired by \\nMITS’ build-it-yourself approach (the Altair came as a kit) \\nto make something simpler for the rest of us. This \\nphilosophy continues to shine through in Apple’s  products \\ntoday. So Woz produced the the first computer with a \\ntypewriter-like keyboard and the ability to connect to a \\nregular TV as a screen. Later christened the Apple I, it was \\nthe archetype of every modern computer, but Wozniak \\nwasn’t trying to change  the world with what he’d produced \\n– he just wanted to show off how much he’d managed to do \\nwith so few resources.  Speaking to NPR (National Public \\nRadio) in 2006, Woz explained that “When I built this \\nApple I… the first computer to say a computer should l ook \\nlike a typewriter – it should have a keyboard – and the \\noutput device is a TV set, it wasn’t really to show the world \\n[that] here is the direction [it] should go [in]. It was to \\nreally show the people around me, to boast, to be clever, to \\nget acknowled gement for having designed a very \\ninexpensive computer.” \\nJobs and Woz \\nIt almost didn’t happen, though. The Woz we know now \\nhas a larger -than-life personality – he’s funded rock \\nconcerts and shimmied on Dancing with the Stars – but, as \\nhe told the Sydney Morning Herald, “I was shy and felt that \\nI knew little about the newest developments in computers.” \\nHe came close to ducking out altogether, and giving the \\nClub a miss. \\nLet’s be thankful he didn’t. Jobs saw Woz’s computer, \\nrecognised its brilliance, and sold  his VW microbus to help \\nfund its production. Wozniak sold his HP calculator (which \\ncost a bit more than calculators do today!), and together \\nthey founded Apple Computer Inc on 1 April 1976, \\nalongside Ronald Wayne. \\n \\nWhy Apple was named Apple: \\nThe name Apple was to cause Apple problems in later years \\nas it was uncomfortably similar to that of the Beatles’ \\npublisher, Apple Corps, but its genesis was innocent \\nenough. \\nSpeaking to Byte magaz ine in December 1984 , Woz \\ncredited Jobs with the idea. “He was working from time to \\ntime in the orchards up in Oregon. I thought that it might be \\nbecause there were apples in the orchard or maybe just its \\nfruitarian nature. Maybe the word just happened to occur to \\nhim. In any case, we both tried to come up with better \\nnames but neither one of us could think of anything better \\nafter Apple was mentioned.” \\nAccording to the biography of Steve Jobs, the name was \\nconceived by Jobs after he returned from apple far m. He \\napparently thought the name sounded “fun, spirited and not \\nintimidating.” \\nThe name also likely benefitted by beginning with an A, \\nwhich meant it would be nearer the front of any listings. \\n \\nThe Apple Logo \\nThere are other theories about the meaning behind the name \\nApple. The idea that it was named thus because Newton \\nwas inspired when an Apple fell out of a tree hitting him on \\nthe head, is backed up by the fact that the original Apple \\nlogo was a rather complicated illustration of Newton sitting \\nunder a tree. \\nLater the company settled on the bite out of an Apple \\ndesign for Apple’s logo – a far simpler logo design. These \\nlogos are probably the reason for other theories about the \\nmeaning behind the name Apple, with some suggesting that \\nthe Apple logo wit h a chunk taken out of it is a nod at \\ncomputer scientist and Enigma code -breaker, Alan Turing, \\nwho committed suicide by eating a cyanide infused apple. \\nHowever, according to  Rob Janoff, the designer who \\ncreated the logo, the Turing connection is simply “a \\nwonderful urban legend.” \\nEqually the bite taken out of the Apple could represent the \\nstory of Adam and Eve from the Old Testament. The idea \\nbeing that the Apple represents knowledge. \\n \\nSelling the Apple I \\nWoz built each computer by hand, and although he’d \\nwanted to sell them for little more than the cost of their \\nparts – at a price at that would recoup their outlay as long as \\nthey shipped 50 units – Jobs had bigger ideas. \\nJobs inked a deal with the Byte Shop in Mountain View to \\nsupply it with 50 computers at  $500 each. This meant that \\nonce the store had taken its cut, the Apple I sold for \\n$666.66 – the legend is that Wozniak liked repeating \\nnumbers and was unaware of the ‘number of the beast’ \\nconection.  \\nByte Shop was going out on a limb: the Apple I didn’t e xist \\nin any great numbers, and the nascent Apple Computer Inc \\ndidn’t have the resources to fulfil the order. Neither could it \\nget them. Atari, where Jobs worked, wanted cash for any \\ncomponents it sold him, a bank turned him down for a loan, \\nand although he  had an offer of $5,000 from a friend’s \\nfather, it wasn’t enough. \\nIn the end, it was Byte Shop’s purchase order that sealed \\nthe deal. Jobs took it to Cramer Electronics and, as  Walter \\nIsaacson explains in Steve Jobs: The Exclusive Biography , \\nhe convinced Cramer’s manager to call Paul Terrell, owner \\nof Byte Shop, to verify the order. \\n“Terrell was at a co nference when he heard over a \\nloudspeaker that he had an emergency call (Jobs had been \\npersistent). The Cramer manager told him that two scruffy \\nkids had just walked in waving an order from the Byte Shop. \\nWas it real? Terrell confirmed that it was, and the  store \\nagreed to front Jobs the parts on thirty-day credit.” \\n \\nAn original Apple I (in a case) \\nJobs was banking on producing enough working computers \\nwithin that time to settle the bill out of the proceeds from \\nselling completed units to Byte Shop. The risk  involved \\nwas too great for Ronald Wayne, and it’s ultimately this \\nthat saw him duck out. \\n“Jobs and Woz didn’t have two nickels to rub \\ntogether,”  Wayne told NextShark in 2013 . “If this thing \\nblew up, how was that… going to be repaid? Did they h ave \\nthe money? No. Was I reachable? Yes.” \\nFamily and friends  were roped in to sit at a kitchen table \\nand help solder the parts, and once they’d been tested Jobs \\ndrove them over to Byte Shop. When he unpacked them, '),\n",
       " Document(metadata={'source': 'pdfs\\\\TheHistoryofApple1.pdf', 'page': 3}, page_content='IJESC, September 2022                                                                        29802                              http:// ijesc.org/ \\nTerrell, who had ordered finished computer s, was surprised \\nby what he found. \\nAs Michael Moritz explains in  Return to the Little \\nKingdom, “Some energetic intervention was required \\nbefore the boards could be made to do anything. Terrell \\ncouldn’t even test the board without buying two \\ntransformers… Since the Apple I didn’t have a keyboard or \\na television, no data could be funnelled in or out of the \\ncomputer. Once a keyboard had been hooked to the \\nmachine it still couldn’t be programmed without somebody \\nlaboriously typing in the code for BASIC sin ce Wozniak \\nand Jobs hadn’t provided the language on a cassette tape or \\nin a ROM chip… finally the computer was naked. It had no \\ncase.” \\nAn original Apple I board, from the Sydney Powerhouse \\nMuseum collection \\nRaspberry PI and the BBC’s Micro Bit aside, we pr obably \\nwouldn’t accept such a computer today, and even Terrell \\nwas reluctant at first but, as Isaacson explains, “Jobs stared \\nhim down, and he agreed to take delivery and pay.” The \\ngamble had paid off, and the Apple I stayed in production \\nfrom April 1976 u ntil September 1977, with a total run of \\naround 200 units. \\nTheir scarcity has made them collectors’ items, and \\nBonhams auctioned a working Apple I in October 2014 for \\nan eye-watering $905,000. If your pockets aren’t that deep, \\nBriel Computers’  Replica 1 Plus is a hardware clone of the \\nApple I, and ships at a far more affordable $199, fully built. \\nWhen you consider that only 200 were built, the Apple I \\nwas a triumph. It powered its burgeoning parent company \\nto almost unheard -of rates of growth  – so much so that the \\ndecision to build a successor can’t have caused too many \\nsleepless nights in the Jobs and Wozniak households. \\n \\nThe Apple II \\nApple II \\nThe success of the first Apple computer meant that Apple \\nwas able to go on to design its predecessor. \\nThe Apple II debuted at the West Coast Computer Faire of \\nApril 1977, going head to head with big -name rivals like \\nthe Commodore PET. It was a truly groundbreaking \\nmachine, just like the Apple computer before it, with colour \\ngraphics and tape -based storage (later upgraded to 5.25in \\nfloppies). Memory ran to 64K in the top -end models and \\nthe image it sent to the NTSC display stretched to a truly \\nimpressive 280 x 192, which was then considered high \\nresolution. Naturally there was a payoff, and push ing it to \\nsuch limits meant you had to content yourself with just six \\ncolours, but dropping to a more reasonable 40 rows by 48 \\ncolumns would let you enjoy as many as 16 tones at a time. \\nYes, the Apple II was a true innovation, and one that Jobs’ \\nbiographer, Walter Isaacson , credits with launching the \\npersonal computer industry. \\n \\nRecourses:  \\n[1] https://www.macworld.com/article/671584/history\\n-of-apple-the-story-of-steve-jobs-and-the-\\ncompany-he-founded.html \\n[2] https://en.wikipedia.org/wiki/Apple_Inc. \\n[3] Oup.com  \\n[4] Cambridge.org  \\n[5] Harvard library of famous figure. \\n \\n \\n \\nView publication stats')]"
      ]
     },
     "execution_count": 10,
     "metadata": {},
     "output_type": "execute_result"
    }
   ],
   "source": [
    "data"
   ]
  },
  {
   "cell_type": "code",
   "execution_count": 11,
   "metadata": {},
   "outputs": [],
   "source": [
    "text_splitter = RecursiveCharacterTextSplitter(chunk_size=150, chunk_overlap=15)\n",
    "text_chunk = text_splitter.split_documents(data)"
   ]
  },
  {
   "cell_type": "code",
   "execution_count": 12,
   "metadata": {},
   "outputs": [],
   "source": [
    "emdedding= OllamaEmbeddings(model=\"snowflake-arctic-embed:latest \" )"
   ]
  },
  {
   "cell_type": "code",
   "execution_count": 13,
   "metadata": {},
   "outputs": [],
   "source": [
    "vector_store = Chroma(\n",
    "    collection_name=\"example_collection\",\n",
    "    embedding_function=emdedding,\n",
    "    persist_directory=\"./chroma_langchain_db\",  # Where to save data locally, remove if not necessary\n",
    ")"
   ]
  },
  {
   "cell_type": "code",
   "execution_count": 14,
   "metadata": {},
   "outputs": [
    {
     "data": {
      "text/plain": [
       "['76f9e109-d73a-4132-98ae-ec13b791cb47',\n",
       " '660e1249-394a-4391-bb38-9ec42adcffc5',\n",
       " 'f67dcce9-1b8a-4c8d-ace5-384dd4dfd5f8',\n",
       " '2b9c0952-9c11-4b23-896d-99f3583fead5',\n",
       " 'cc676280-1408-4a48-bcb3-a0e0007829d9',\n",
       " 'dc763746-ef95-41a3-ad0a-e7d569747127',\n",
       " 'c642232b-80c6-4f37-b242-1e4ee3a91684',\n",
       " '0038fb81-7031-47f5-b22a-3efdf00635ac',\n",
       " '1e06d07f-4cb5-47ea-806e-1ae3389712b0',\n",
       " 'b8b71f14-7f27-4dd0-97a4-c37520b8a853',\n",
       " 'c7a8ffdb-6f84-48b1-bdea-311e685d766b',\n",
       " 'a3cefed1-8b4b-4236-9f86-b81c090aace3',\n",
       " '0fd9bca6-5999-4c98-b35c-89969f22be05',\n",
       " '2fbbb616-2968-4208-a5f8-f852d58dabae',\n",
       " 'df97a909-03a1-4e46-a2cf-eab0b51fe1ac',\n",
       " '1f217731-9eb4-4d0d-bd88-0a16968b5aa1',\n",
       " 'fe9f7275-e426-4c76-961b-7a1b8db8db3b',\n",
       " '135cfc34-389a-4b01-8c16-ab817f26c651',\n",
       " '31b6d6c8-e779-4fa0-9cd3-6afb2a061586',\n",
       " '45bee964-ad24-4bed-9fbd-dbb7b6c9addf',\n",
       " 'c7d9ec5d-85a6-4733-bf66-26eb08ddb775',\n",
       " 'f2749b0d-d37e-40ee-a56a-34a0bae35c47',\n",
       " 'b10c21ca-6e50-4de7-8fc9-b4e47495987c',\n",
       " '7762e3d0-7550-4cfb-994f-07b1a9ba992a',\n",
       " '11bc0f79-e73d-4907-aaae-6dd1ae06ff30',\n",
       " '71e4f0e7-4f77-45d9-962d-2755082b4a6a',\n",
       " '9b04b291-146f-4167-9932-3acc93f42dc5',\n",
       " '45963968-9731-4f33-9123-780361330b5d',\n",
       " '0545ceae-5fbd-4191-b951-e8d49c645551',\n",
       " 'f8f46759-113b-466e-87e5-33272ff688f9',\n",
       " 'a665a23b-59b7-4a9c-a754-a3bc0edce8d6',\n",
       " 'a0b11937-7d20-49da-afa3-5ca8bab48d39',\n",
       " '2853041c-365c-4258-8733-22a147595386',\n",
       " '0b5d2ec5-aebe-4193-99e7-8960a8ad747f',\n",
       " 'a6755558-937d-494c-a569-63bd02541441',\n",
       " 'fb7730e7-a67b-4d79-839f-b5d53fa261fc',\n",
       " '068fad60-6c7e-4030-a7cd-e38b2ddce526',\n",
       " '1b6c1d5f-1ab6-461e-ad46-4e742a8b7f2b',\n",
       " '73d7b396-0080-43fc-a472-cdd74fe9f497',\n",
       " '619be44d-e87b-4581-8c39-f42179f3e79a',\n",
       " '1ef57c6d-0ad5-4318-a7fc-3b3cdd5aeb1d',\n",
       " 'faedd408-3cc8-4bac-b609-6fcf1c17bae6',\n",
       " 'fb2eb335-c906-4268-bcf8-730dce792bea',\n",
       " '5903cd93-cf6e-4934-be69-46fe338766f5',\n",
       " 'f43623cd-48df-487f-ba05-836256206328',\n",
       " 'e56830ad-bedd-4fca-b283-50d6e272f3b3',\n",
       " 'f51738b2-622c-4b74-b4dc-ca641c58032a',\n",
       " '43fcd1af-2664-4df8-b5e0-e70e691e63a5',\n",
       " '91c6850f-2563-42e6-bf81-fd046004d4d8',\n",
       " '873bbc28-174b-4bf4-a914-67297c82180d',\n",
       " '2264760a-6422-4c02-8fd7-e8f0e261b217',\n",
       " '12eb32bf-99ae-4212-829c-641d72249a3b',\n",
       " '1d2ee027-8023-4c95-a00e-b48b213d68d6',\n",
       " 'c1cbd266-9636-4ba2-8a01-268b08e6ed42',\n",
       " 'bc4b1dff-cca0-4201-a5ee-c47512aec34a',\n",
       " '088985b1-ec86-42a4-a73b-57a64115b560',\n",
       " 'cfc2f4ad-63b1-4e4d-84bc-31267b0967ea',\n",
       " 'b601773e-740e-4bf8-9e21-595887c92aaa',\n",
       " '151702ba-1422-4ebd-88ef-3290b446ef8f',\n",
       " '88f45eed-bdbc-4856-98e5-5fa382eaeb62',\n",
       " '131be2e0-5cb4-457e-97ca-17dd8bfc3bec',\n",
       " 'ce5da3a5-7ffb-4389-8898-7950a22f2c21',\n",
       " '25917775-cc5f-4b63-9e25-1d9135acae65',\n",
       " '2b43f03d-1706-4d76-bf83-6f26eb5e0c8f',\n",
       " 'f11a45df-0698-459b-9a35-76637e4f41d8',\n",
       " '5c0c0450-d3c9-46e8-8d76-43cf0b6c8229',\n",
       " '379cda83-646f-4834-a4dd-19f07b0cd857',\n",
       " '2136bd36-cea1-4b6a-9e93-31b3ae539c4e',\n",
       " '68404c23-45d4-43d1-a639-4001119229c4',\n",
       " 'f1e40d85-dd5f-4f0d-89b6-09a814241e21',\n",
       " 'e0fe8b51-289e-41d2-bb1f-1e7825646fd0',\n",
       " 'd11bc8da-eb54-4eb2-b099-940f523bb3eb',\n",
       " 'cde55bfc-192d-413b-924b-e46a213eba9e',\n",
       " '37e7d8fb-9be1-4463-8be5-c14528207dd5',\n",
       " '3b72ebae-dbb6-4264-8684-0aa7f391c0d8',\n",
       " '9afed86d-40fe-4779-9521-59e122775c4a',\n",
       " '99f2b0f7-210d-4005-bdfa-8c616599a29e',\n",
       " 'aefeb7ee-a364-4d1b-81b1-0f97d8d142d5',\n",
       " '023ecd0a-8289-4a0f-95ba-d3f0b2b515db',\n",
       " 'ad8525a8-d050-4ebf-9614-f1b381c11a25',\n",
       " '0e0061c8-ec54-4843-9645-f9e16c13db9c',\n",
       " '6adc268a-24ed-48e2-be53-6933a8ff4f81',\n",
       " '764968f6-172f-4c23-be38-12192b1f3777',\n",
       " '2832f28d-3df8-43d8-b166-f04aae26b541',\n",
       " '18aed0e9-6d90-471f-8332-8019cb71b64d',\n",
       " 'e5b1e39c-0e77-4b5c-a161-7ad4b4ca205e',\n",
       " '715ed17e-ec03-47f1-be8c-672f94e92b0d',\n",
       " 'acaa4988-d3df-4d22-bfa9-28df62f6010d',\n",
       " 'd4ab9684-9471-4a9d-87f2-86944ee6aeed',\n",
       " '523705ef-3cd8-466b-bc76-d6e902dcd135',\n",
       " '0abd14a1-c6e1-4f39-95c5-6f65769e5796',\n",
       " '216d24f2-fda0-4be9-9e80-9fc92914014c',\n",
       " '3af5f974-ae1c-4009-bd0e-d19470bb35b7',\n",
       " 'c0f4d844-5dfc-4044-85b1-42d726ad8194',\n",
       " '26ad72e6-98ee-495b-9b52-7a63c8f41960',\n",
       " '17e38f72-0e03-485e-ac0f-0de6ddf938ae',\n",
       " '328dcc2e-56df-4a58-8c96-d8c8066d63b0',\n",
       " 'c10250d3-5853-4db4-a57a-cbf8d5065de6',\n",
       " 'fa19e017-dea1-46e9-99b1-74f8daabb3af',\n",
       " '453d7a6a-e46f-4c48-9914-0764e6336eb0',\n",
       " '5ae81060-a921-4990-98b9-bf34d2d311be',\n",
       " '091d30cd-18e7-4ad3-91bb-5274b71af6f6',\n",
       " '88eb8493-a527-449a-b2d5-ebc17a612f23',\n",
       " 'd20a0a10-d545-43d1-9cdf-3ea6ce9cf128',\n",
       " '68cb5db6-9cbe-44a0-af9b-38e4fa7e4fb3',\n",
       " '9c206c3f-4f18-4421-b8ff-2ca5fc8e5d36',\n",
       " '551e0f03-dc24-437b-82d4-663a916ccb4b',\n",
       " '9c54bde9-eb21-4b3c-9c1e-a74a4578ccca',\n",
       " 'aa7f041f-93b3-4c3d-9c64-52b2aa61f61b',\n",
       " 'bcbc32a1-69c6-45cd-aa23-9ee866307956',\n",
       " '486cc960-3f02-4e7e-a74b-dce4b239e2a8',\n",
       " 'f5bc41f6-4c4b-438f-ad1a-111da8c21c83',\n",
       " '59e80fff-439c-4f45-9e9c-b78fafd4e514',\n",
       " '49966c62-5602-446a-b8a6-a482705fb9b9',\n",
       " '5b04cd7f-61cd-4bc2-aed4-3a4c9b7fce9d',\n",
       " '6bba2429-ece1-41fb-83f6-16cd55802f82',\n",
       " 'e6ce518f-16ef-418a-a2ed-baaa8a600dd7',\n",
       " '9543987d-9f2e-4ac3-8f39-fed5fd59557c',\n",
       " '34ca9fb9-2dbd-4c62-97d6-3e732d1c23ef',\n",
       " '6e4ee099-b2be-4631-9ef5-45f70d6e9712',\n",
       " '272caf63-cd5a-4101-94ce-78b00fbf61ad',\n",
       " '4282a4b8-27ee-48dd-838e-eb57dad92473',\n",
       " 'a3350692-fe52-4a58-9757-cc3667b52b4f',\n",
       " 'ebb02359-1800-4aad-8da9-0bb92b723300',\n",
       " 'b05fe1d6-35f8-449b-935b-8f795dc632b2',\n",
       " 'f80e10b5-c10e-4496-b479-ee645c4fc3f3',\n",
       " '3aa558e3-f105-4c21-b27f-f62f4c5b1552',\n",
       " '1592b1ba-292e-4468-9bca-1dbdedb13936',\n",
       " '95fc8523-89fb-48b9-827d-bed6630a0758',\n",
       " 'f5ea277f-0d4b-4318-aed5-5b77e69157ec',\n",
       " '9bf671d0-4525-43de-b378-0febbb4b53a6',\n",
       " '4cf257e3-b278-43c2-9a8d-06715c756f91',\n",
       " '293c643a-f916-4d8e-b6cb-9368a077e99f',\n",
       " 'b6cd67f8-5894-462e-8053-c21f95873133']"
      ]
     },
     "execution_count": 14,
     "metadata": {},
     "output_type": "execute_result"
    }
   ],
   "source": [
    "#adding data into the database\n",
    "uuids = [str(uuid4()) for _ in range(len(text_chunk))]\n",
    " \n",
    "vector_store.add_documents(documents=text_chunk, ids=uuids)"
   ]
  },
  {
   "cell_type": "code",
   "execution_count": 26,
   "metadata": {},
   "outputs": [],
   "source": [
    "#llm model loaded\n",
    "llm=OllamaLLM(model=\"stablelm-zephyr:3b\")"
   ]
  },
  {
   "cell_type": "code",
   "execution_count": 42,
   "metadata": {},
   "outputs": [],
   "source": [
    "#templete for the llm model\n",
    "template = \"\"\"\n",
    "You are an expert assistant specializing in Apple's history. Provide accurate, concise, and contextually relevant answers based solely on the information provided. Do not speculate or give opinions. Avoid referencing the context directly or acknowledging its existence. Simply respond to the user query with a direct and informative answer.\n",
    "\n",
    "### Context:\n",
    "{context}\n",
    "\n",
    "### User Query:\n",
    "{query}\n",
    "\n",
    "### Your Response:\n",
    "\n",
    "\"\"\""
   ]
  },
  {
   "cell_type": "code",
   "execution_count": 43,
   "metadata": {},
   "outputs": [],
   "source": [
    "prompt = PromptTemplate(\n",
    "    input_variables=[\"context\", \"query\"],\n",
    "    template=template,\n",
    ")"
   ]
  },
  {
   "cell_type": "code",
   "execution_count": 44,
   "metadata": {},
   "outputs": [],
   "source": [
    "apple_history_chain = LLMChain(llm=llm, prompt=prompt)"
   ]
  },
  {
   "cell_type": "code",
   "execution_count": 46,
   "metadata": {},
   "outputs": [
    {
     "name": "stdout",
     "output_type": "stream",
     "text": [
      "\n",
      "Response:\n",
      " Steve Jobs was the founder of Apple Inc. He conceived the name \"Apple\" after his return from India's Tantamount Hill (Apple Far M) in 1965. According to Walter Isaacson's biography, Steve Jobs took the idea for the company name to Cramer Electronics.\n",
      "\n",
      "Response:\n",
      " The first product created by Apple mentioned in the provided context is the Apple I, which had only 200 units built. This pioneering personal computer served as a major success despite its limited production, powering Apple's rapidly growing parent company.\n",
      "\n",
      "Response:\n",
      " The Apple logo was originally designed under a tree as part of the company's early branding efforts. Later on, the design evolved to feature a bite taken out of an Apple. These distinct logos are believed to be the reason for various theories surrounding the meaning behind the name \"Apple.\" Some individuals speculate that the name Apple originates from these iconic logo designs, although this origin story remains uncertain.\n",
      "Goodbye!\n"
     ]
    }
   ],
   "source": [
    "while True:\n",
    "    user_query = input(\"Ask a question about Apple's history (type 'exit' to quit): \")\n",
    "    \n",
    "    if user_query.lower() == \"exit\":\n",
    "        print(\"Goodbye!\")\n",
    "        break\n",
    "    \n",
    "    # Fetch relevant context using the context function\n",
    "    results = vector_store.similarity_search(user_query, k=2)\n",
    "    \n",
    "    # Run the chain with the given context and query\n",
    "    response = apple_history_chain.run(llm=llm, context=results, query=user_query)\n",
    "    print(\"\\nResponse:\\n\", response)"
   ]
  },
  {
   "cell_type": "code",
   "execution_count": null,
   "metadata": {},
   "outputs": [],
   "source": []
  },
  {
   "cell_type": "code",
   "execution_count": null,
   "metadata": {},
   "outputs": [],
   "source": []
  },
  {
   "cell_type": "code",
   "execution_count": null,
   "metadata": {},
   "outputs": [],
   "source": []
  },
  {
   "cell_type": "code",
   "execution_count": null,
   "metadata": {},
   "outputs": [],
   "source": []
  }
 ],
 "metadata": {
  "kernelspec": {
   "display_name": "venv",
   "language": "python",
   "name": "python3"
  },
  "language_info": {
   "codemirror_mode": {
    "name": "ipython",
    "version": 3
   },
   "file_extension": ".py",
   "mimetype": "text/x-python",
   "name": "python",
   "nbconvert_exporter": "python",
   "pygments_lexer": "ipython3",
   "version": "3.12.7"
  }
 },
 "nbformat": 4,
 "nbformat_minor": 2
}
